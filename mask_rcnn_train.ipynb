{
  "nbformat": 4,
  "nbformat_minor": 0,
  "metadata": {
    "colab": {
      "name": "mask_rcnn_train_완성.ipynb",
      "version": "0.3.2",
      "provenance": [],
      "collapsed_sections": [],
      "toc_visible": true,
      "include_colab_link": true
    },
    "kernelspec": {
      "name": "python3",
      "display_name": "Python 3"
    },
    "accelerator": "GPU"
  },
  "cells": [
    {
      "cell_type": "markdown",
      "metadata": {
        "id": "view-in-github",
        "colab_type": "text"
      },
      "source": [
        "<a href=\"https://colab.research.google.com/github/kimo722504/practice_ML/blob/master/mask_rcnn_train.ipynb\" target=\"_parent\"><img src=\"https://colab.research.google.com/assets/colab-badge.svg\" alt=\"Open In Colab\"/></a>"
      ]
    },
    {
      "cell_type": "markdown",
      "metadata": {
        "id": "Z0mFC1XJ_A6S",
        "colab_type": "text"
      },
      "source": [
        "# Object detection api (MASK_RCNN)\n",
        "\n",
        "colab에서 ipynb 파일을 키고 그대로 따라 하시면 됩니다. \n",
        "**colab**을 사용하기 때문에 대부분 편하게 사용할 수 있습니다. Good~!\n",
        "\n",
        "1. colab 들어감.\n",
        "1. File > Open notebook > FILENAME.ipynb\n",
        "1. Runtime > Change Runtime Type > Hardware Accelerator > GPU 클릭\n",
        "1. 다른 거 할 필요 없이 **셀**만 실행하면 됨.\n",
        "\n",
        ">  참고 : [영상](https://www.youtube.com/watch?v=Rgpfk6eYxJA&t=803s)을 먼저 한번 보고오시면 따라할때 더욱더 이해가 잘됩니다.   \n",
        "영상은 단순히 이해용도이며 MASK_RCNN은 밑에 설명되어있습니다."
      ]
    },
    {
      "cell_type": "markdown",
      "metadata": {
        "id": "3ydpfjBu_wqS",
        "colab_type": "text"
      },
      "source": [
        "## MASK_RCNN블로그와 깃허브 소개\n",
        "이 노트북은 다음 글의 내용을 그대로 따라하며, 경로만 수정하였습니다.  \n",
        "[블로그](https://medium.com/@vijendra1125/custom-mask-rcnn-using-tensorflow-object-detection-api-101149ce0765)와 [깃허브](https://github.com/vijendra1125/Custom-Mask-RCNN-using-Tensorfow-Object-detection-API)"
      ]
    },
    {
      "cell_type": "markdown",
      "metadata": {
        "id": "kBwSn8yCQeOt",
        "colab_type": "text"
      },
      "source": [
        "#Environment Setup"
      ]
    },
    {
      "cell_type": "code",
      "metadata": {
        "id": "9vV5WmzT2Aey",
        "colab_type": "code",
        "colab": {}
      },
      "source": [
        "!apt-get install protobuf-compiler python-pil python-lxml python-tk\n",
        "!pip install Cython\n",
        "!pip install jupyter\n",
        "!pip install matplotlib\n",
        "\n",
        "!git clone https://github.com/tensorflow/models.git\n",
        "\n",
        "%cd /content/models/research\n",
        "\n",
        "!protoc object_detection/protos/*.proto --python_out=.\n",
        "\n",
        "%set_env PYTHONPATH=/content/models/research:/content/models/research/slim\n",
        "\n",
        "!python object_detection/builders/model_builder_test.py"
      ],
      "execution_count": 0,
      "outputs": []
    },
    {
      "cell_type": "code",
      "metadata": {
        "id": "n2oD48l7zBmd",
        "colab_type": "code",
        "colab": {}
      },
      "source": [
        "import tensorflow as tf\n",
        "print(tf.__version__)"
      ],
      "execution_count": 0,
      "outputs": []
    },
    {
      "cell_type": "code",
      "metadata": {
        "id": "e97LzYYOzFNY",
        "colab_type": "code",
        "colab": {}
      },
      "source": [
        "%cd /content/models/research/object_detection/\n",
        "!git clone https://github.com/vijendra1125/Custom-Mask-RCNN-using-Tensorfow-Object-detection-API\n",
        "!mv Custom-Mask-RCNN-using-Tensorfow-Object-detection-API multiple_object_mask"
      ],
      "execution_count": 0,
      "outputs": []
    },
    {
      "cell_type": "code",
      "metadata": {
        "id": "vI9umSXOzHjf",
        "colab_type": "code",
        "colab": {}
      },
      "source": [
        "!cat -n /content/models/research/object_detection/multiple_object_mask/mask_rcnn_inception_v2_coco.config"
      ],
      "execution_count": 0,
      "outputs": []
    },
    {
      "cell_type": "markdown",
      "metadata": {
        "id": "meU1VGTHzLU4",
        "colab_type": "text"
      },
      "source": [
        "## 경로 적절히 수정\n",
        "경로들이 다 drive(구글 드라이브) 로 되어있기때문에 적절히 수정합시다  \n",
        "\n",
        "> drive/learning/DL/projects 를 models/research로 치환함  \n",
        "> drive/learning/DL 을 models/research/object_detection/multiple_object_mask로 치환함\n"
      ]
    },
    {
      "cell_type": "code",
      "metadata": {
        "id": "k13JhXB_zPVt",
        "colab_type": "code",
        "colab": {}
      },
      "source": [
        "!sed -i 's/drive\\/learning\\/DL\\/projects/models\\/research/g' /content/models/research/object_detection/multiple_object_mask/mask_rcnn_inception_v2_coco.config"
      ],
      "execution_count": 0,
      "outputs": []
    },
    {
      "cell_type": "code",
      "metadata": {
        "id": "SVKZGkfP9WmC",
        "colab_type": "code",
        "colab": {}
      },
      "source": [
        "!sed -i 's/drive\\/learning\\/DL/models\\/research\\/object_detection\\/multiple_object_mask/g' /content/models/research/object_detection/multiple_object_mask/mask_rcnn_inception_v2_coco.config"
      ],
      "execution_count": 0,
      "outputs": []
    },
    {
      "cell_type": "markdown",
      "metadata": {
        "id": "qmgLaPfC0yf5",
        "colab_type": "text"
      },
      "source": [
        "## record 만들기\n",
        "우린 커스텀데이터로 해야하니까 직접 레코드를 만드는 작업을 해봅시다"
      ]
    },
    {
      "cell_type": "code",
      "metadata": {
        "id": "XgQ3BFDM1cu1",
        "colab_type": "code",
        "colab": {}
      },
      "source": [
        "!cp  ./multiple_object_mask/extra/create_mask_rcnn_tf_record.py ../object_detection/dataset_tools/"
      ],
      "execution_count": 0,
      "outputs": []
    },
    {
      "cell_type": "code",
      "metadata": {
        "id": "o3oUmdd30xMS",
        "colab_type": "code",
        "colab": {}
      },
      "source": [
        "%cd /content/models/research\n",
        "!python object_detection/dataset_tools/create_mask_rcnn_tf_record.py \\\n",
        "--data_dir=object_detection/multiple_object_mask/dataset/ \\\n",
        "--annotations_dir=Annotations \\\n",
        "--image_dir=JPEGImages \\\n",
        "--output_dir=object_detection/multiple_object_mask/dataset/train.record \\\n",
        "--label_map_path=object_detection/multiple_object_mask/dataset/label.pbtxt"
      ],
      "execution_count": 0,
      "outputs": []
    },
    {
      "cell_type": "markdown",
      "metadata": {
        "id": "h25D4jtr6IB4",
        "colab_type": "text"
      },
      "source": [
        "## coco trained-models 중 하나인 mask_rcnn_inception_v2_coco 파일을 다운로드\n",
        "[클릭](https://github.com/tensorflow/models/blob/master/research/object_detection/g3doc/detection_model_zoo.md)해서 다운받을수있지만 우리는 코드로 받아봅시다."
      ]
    },
    {
      "cell_type": "code",
      "metadata": {
        "id": "fG84oGkQ5XZ0",
        "colab_type": "code",
        "colab": {}
      },
      "source": [
        "import requests\n",
        "filename = \"mask_rcnn_inception_v2_coco_2018_01_28.tar.gz\"\n",
        "URL = \"http://download.tensorflow.org/models/object_detection/\"+filename\n",
        "try:\n",
        "  response = requests.get(URL,stream=True)\n",
        "  print(response.status_code)\n",
        "  if response.status_code == 200:\n",
        "      with open(\"/content/models/research/object_detection/multiple_object_mask/pre_trained_models/\"+filename, 'wb') as f:\n",
        "          f.write(response.content) # 파일저장하기\n",
        "except Exception as e:\n",
        "  print(e)"
      ],
      "execution_count": 0,
      "outputs": []
    },
    {
      "cell_type": "code",
      "metadata": {
        "id": "yfoahacH6NV9",
        "colab_type": "code",
        "colab": {}
      },
      "source": [
        "%cd /content/models/research/object_detection/multiple_object_mask/pre_trained_models\n",
        "!tar -xvzf mask_rcnn_inception_v2_coco_2018_01_28.tar.gz"
      ],
      "execution_count": 0,
      "outputs": []
    },
    {
      "cell_type": "code",
      "metadata": {
        "id": "dV-9F3HR8vsQ",
        "colab_type": "code",
        "colab": {}
      },
      "source": [
        "!mv mask_rcnn_inception_v2_coco_2018_01_28/ mask_rcnn_inception_v2_coco/"
      ],
      "execution_count": 0,
      "outputs": []
    },
    {
      "cell_type": "markdown",
      "metadata": {
        "id": "7T3RDLqtU6IT",
        "colab_type": "text"
      },
      "source": [
        "#Train Model"
      ]
    },
    {
      "cell_type": "code",
      "metadata": {
        "id": "tDKvkhu32k1I",
        "colab_type": "code",
        "colab": {}
      },
      "source": [
        "%cd /content/models/research/\n",
        "!python object_detection/legacy/train.py \\\n",
        "--train_dir=/content/models/research/object_detection/multiple_object_mask/CP \\\n",
        "--pipeline_config_path=/content/models/research/object_detection/multiple_object_mask/mask_rcnn_inception_v2_coco.config"
      ],
      "execution_count": 0,
      "outputs": []
    },
    {
      "cell_type": "markdown",
      "metadata": {
        "id": "dEiNEqC5U-mP",
        "colab_type": "text"
      },
      "source": [
        "#Save inference graph\n",
        "trained_checkpoint_prefix 경로의 model.ckpt-XXXX 만 적절히 수정하면됩니다.!"
      ]
    },
    {
      "cell_type": "code",
      "metadata": {
        "id": "_mHQuw4uBIS4",
        "colab_type": "code",
        "colab": {}
      },
      "source": [
        "!ls -al /content/models/research/object_detection/multiple_object_mask/CP"
      ],
      "execution_count": 0,
      "outputs": []
    },
    {
      "cell_type": "code",
      "metadata": {
        "id": "u_ixlaX62mMF",
        "colab_type": "code",
        "colab": {}
      },
      "source": [
        "!python object_detection/export_inference_graph.py \\\n",
        "--input_type=image_tensor \\\n",
        "--pipeline_config_path=/content/models/research/object_detection/multiple_object_mask/mask_rcnn_inception_v2_coco.config \\\n",
        "--trained_checkpoint_prefix=/content/models/research/object_detection/multiple_object_mask/CP/model.ckpt-2000 \\\n",
        "--output_directory=/content/models/research/object_detection/multiple_object_mask/IG\n",
        "!ls -al /content/models/research/object_detection/multiple_object_mask/IG"
      ],
      "execution_count": 0,
      "outputs": []
    },
    {
      "cell_type": "markdown",
      "metadata": {
        "id": "i54kdLqEHus5",
        "colab_type": "text"
      },
      "source": [
        "## pb 파일을 로컬로 다운로드하세요(마우스로~)\n",
        "끝~!"
      ]
    },
    {
      "cell_type": "code",
      "metadata": {
        "id": "XrSRbFyhHo7W",
        "colab_type": "code",
        "colab": {
          "base_uri": "https://localhost:8080/",
          "height": 215
        },
        "outputId": "0301e80f-c314-48af-fa67-edc9ebeda1b2"
      },
      "source": [
        "!ls -al /content/models/research/object_detection/multiple_object_mask/IG"
      ],
      "execution_count": 17,
      "outputs": [
        {
          "output_type": "stream",
          "text": [
            "total 105352\n",
            "drwxr-xr-x 3 root root     4096 Jul 22 23:57 .\n",
            "drwxr-xr-x 8 root root     4096 Jul 22 23:43 ..\n",
            "-rw-r--r-- 1 root root       77 Jul 22 23:57 checkpoint\n",
            "-rw-r--r-- 1 root root 53402554 Jul 22 23:57 frozen_inference_graph.pb\n",
            "-rw-r--r-- 1 root root 52726588 Jul 22 23:57 model.ckpt.data-00000-of-00001\n",
            "-rw-r--r-- 1 root root    16112 Jul 22 23:57 model.ckpt.index\n",
            "-rw-r--r-- 1 root root  1704235 Jul 22 23:57 model.ckpt.meta\n",
            "-rw-r--r-- 1 root root     4050 Jul 22 23:57 pipeline.config\n",
            "-rw-r--r-- 1 root root       34 Jul 22 23:42 ReadMe.txt\n",
            "drwxr-xr-x 3 root root     4096 Jul 22 23:57 saved_model\n"
          ],
          "name": "stdout"
        }
      ]
    },
    {
      "cell_type": "markdown",
      "metadata": {
        "id": "dIWA_r9-AGAO",
        "colab_type": "text"
      },
      "source": [
        "# 여기서부터 참고사항\n",
        "\n",
        "## 툴 사용해서 데이터 만들기\n",
        "[블로그](https://medium.com/@vijendra1125/custom-mask-rcnn-using-tensorflow-object-detection-api-101149ce0765)를 읽어보면 PixelAnnotationTool 툴을 사용해서 마스킹을 했다고합니다.   \n",
        "object_detection/multiple_object_mask/dataset/ 위치에 있는 데이터만 바꾸고 학습 돌리면 됩니다.\n",
        "\n",
        "## xml파일 만들지 않아도됨\n",
        "create_mask_rcnn_tf_record.py 가 바운딩 박스를 찾아주므로 우리는 따로 xml파일을 만들 필요가 없습니다.  "
      ]
    },
    {
      "cell_type": "markdown",
      "metadata": {
        "id": "0F9NP42TIRFK",
        "colab_type": "text"
      },
      "source": [
        "# 하지만!!!  \n",
        "[same class에 multiple object가 있을경우(???)](https://github.com/vijendra1125/Custom-Mask-RCNN-using-Tensorfow-Object-detection-API#convert-the-data-to-tensorflow-record-format) create_mask_rcnn_tf_record 파일 대신 create_mask_rcnn_tf_record_multi.py 파일을 사용하여야 하며 이경우 바운딩 박스를 찾아주지 않습니다.  \n",
        "(아마 한 이미지에 여러 클래스를 마스킹 할 경우는 바운딩 박스도 직접 해주어야 한다는 뜻 같습니다.)   \n",
        "이 경우 직접 [labelImg library](https://pypi.org/project/labelImg/)로 바운딩박스도 쳐주어야 합니다.  "
      ]
    },
    {
      "cell_type": "code",
      "metadata": {
        "id": "oiSnn-DhMDFK",
        "colab_type": "code",
        "colab": {}
      },
      "source": [
        ""
      ],
      "execution_count": 0,
      "outputs": []
    }
  ]
}